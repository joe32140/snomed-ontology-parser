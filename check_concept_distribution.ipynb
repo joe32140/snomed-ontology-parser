{
 "cells": [
  {
   "cell_type": "code",
   "execution_count": 29,
   "metadata": {},
   "outputs": [],
   "source": [
    "import pandas as pd\n",
    "import seaborn as sns\n",
    "from collections import Counter\n",
    "import numpy as np\n",
    "import json\n",
    "import re\n",
    "from sklearn.feature_extraction.text import CountVectorizer"
   ]
  },
  {
   "cell_type": "code",
   "execution_count": 1,
   "metadata": {},
   "outputs": [],
   "source": [
    "ONTOLOGY_PATH = '/Users/Joe/Downloads/SNOMED_CF.csv'\n",
    "ONTOLOGY_PATH = '/Users/Joe/Downloads/CCFO.csv'"
   ]
  },
  {
   "cell_type": "code",
   "execution_count": 75,
   "metadata": {},
   "outputs": [],
   "source": [
    "def get_cleaned_name2cid(c2name):\n",
    "    cleaned_name2cid = {}\n",
    "    for k, v in c2name.items():\n",
    "        v = re.sub('[^a-zA-Z0-9]+', ' ', v)\n",
    "        cleaned_name2cid[v] = k\n",
    "    return cleaned_name2cid\n",
    "\n",
    "def get_vocab2concept_dict(count_vectorizer, cleaned_name2cid):\n",
    "    vid2cid = {}\n",
    "    for k, v in count_vectorizer.vocabulary_.items():\n",
    "        if k in cleaned_name2cid:\n",
    "            vid2cid[v] = cleaned_name2cid[k]\n",
    "            print(\"matched word:\", k)\n",
    "    # print(\"vocab2concept_dict:\", vid2cid)\n",
    "    return vid2cid\n",
    "\n",
    "def get_CountVectorizer(text, allow_list=None, min_df=1):\n",
    "    vectorizer = CountVectorizer(\n",
    "        lowercase=True, token_pattern='[a-zA-Z]{2,}',\n",
    "        ngram_range=(1,3), min_df=min_df, stop_words='english', vocabulary=allow_list) \n",
    "    # low_risk_vectorizer.fit(low_risk_cohort_note['notes_groupby_enc'].values)\n",
    "    X = vectorizer.fit_transform(text)\n",
    "    print(\"Ten words in the vocabulary:\")\n",
    "    print(vectorizer.get_feature_names()[:10])\n",
    "    print(X.shape)\n",
    "    return vectorizer, X\n",
    "\n",
    "\n",
    "def get_selected_concept_id(max_token_len=3):\n",
    "    CF = pd.read_csv(ONTOLOGY_PATH)\n",
    "    cf_wordlist = []\n",
    "    check_set = set()\n",
    "    allowed_concept_ids = []\n",
    "    for i, row in CF.iterrows():\n",
    "        s = str(row['Preferred Label']).lower()\n",
    "        cid = row[\"Class ID\"].split(\"#\")[-1]\n",
    "        if cid == \"404684003\":\n",
    "            continue\n",
    "        tokens = re.findall('[a-z]+', s)\n",
    "        concept = \" \".join(tokens)\n",
    "        if 0 < len(tokens) <= max_token_len:\n",
    "            if concept not in check_set:\n",
    "                allowed_concept_ids.append(cid)\n",
    "                cf_wordlist.append(concept)\n",
    "                check_set.add(concept)\n",
    "    return allowed_concept_ids, cf_wordlist\n",
    "\n",
    "def get_laycount(count_vector, vid2cid, relation_c2layer1, allowed_concept_ids):\n",
    "    \"\"\"\n",
    "    summing of number of concepts appears of the selected layer.\n",
    "    \"\"\"\n",
    "    allowed_concept_ids = set(allowed_concept_ids)\n",
    "    counter = Counter()\n",
    "    # c2layer1 = list(relation_c2layer1.values())\n",
    "    # mapped_c2layer1 = [cc for i,cc in enumerate(c2layer1) if i in allowed_concept_ids]\n",
    "    mapped_c2layer1 = {}\n",
    "    for cid, layer1ids in relation_c2layer1.items():\n",
    "        if cid in allowed_concept_ids:\n",
    "            mapped_c2layer1[cid] = layer1ids\n",
    "    for c in count_vector:\n",
    "        counts = np.where(np.array(c.toarray()).flatten()>0)[0]\n",
    "        for count in counts:\n",
    "            matched_cid = vid2cid.get(count, None)\n",
    "            if matched_cid and matched_cid in mapped_c2layer1:\n",
    "                counter.update(mapped_c2layer1[matched_cid])\n",
    "    return counter\n",
    "\n",
    "def sort_two_lists(list1, list2):\n",
    "    zipped_lists = zip(list1, list2)\n",
    "    sorted_pairs = sorted(zipped_lists)\n",
    "\n",
    "    tuples = zip(*sorted_pairs)\n",
    "    list1, list2 = [ list(tuple) for tuple in  tuples]\n",
    "    return list1, list2"
   ]
  },
  {
   "cell_type": "code",
   "execution_count": 72,
   "metadata": {},
   "outputs": [],
   "source": [
    "relation_c2layer1 = json.load(open(\"/Users/Joe/Downloads/relation_c2layer1.json\"))\n",
    "c2name = json.load(open(\"/Users/Joe/Downloads/snomed_c2name.json\"))\n",
    "cleaned_name2cid = get_cleaned_name2cid(c2name)"
   ]
  },
  {
   "cell_type": "code",
   "execution_count": 73,
   "metadata": {},
   "outputs": [
    {
     "name": "stderr",
     "output_type": "stream",
     "text": [
      "/var/folders/t4/bhf59vs90_141wj5x6wyvcpw0000gn/T/ipykernel_59185/2132314903.py:1: DtypeWarning: Columns (24,28,30) have mixed types.Specify dtype option on import or set low_memory=False.\n",
      "  allowed_concept_ids, cf_wordlist = get_selected_concept_id()\n"
     ]
    }
   ],
   "source": [
    "allowed_concept_ids, cf_wordlist = get_selected_concept_id()"
   ]
  },
  {
   "cell_type": "code",
   "execution_count": 76,
   "metadata": {},
   "outputs": [
    {
     "name": "stdout",
     "output_type": "stream",
     "text": [
      "Ten words in the vocabulary:\n",
      "['abdominal', 'abdominal adiposity', 'abdominal adiposity researchers', 'abdominal chest', 'abdominal chest wall', 'abdominal wall', 'abdominal wall blocks', 'abdominal wall consequently', 'abdominus', 'abdominus periosteum']\n",
      "(1, 6514)\n",
      "matched word: related\n",
      "matched word: female\n",
      "matched word: lifestyle\n",
      "matched word: orientated\n",
      "matched word: tension\n",
      "matched word: aging\n",
      "matched word: stiffness\n",
      "matched word: newborn\n",
      "matched word: puberty\n",
      "matched word: pain\n",
      "matched word: discomfort\n",
      "matched word: breast composition\n",
      "matched word: weight increased\n",
      "matched word: small breast\n",
      "matched word: musculoskeletal pain\n"
     ]
    },
    {
     "name": "stderr",
     "output_type": "stream",
     "text": [
      "/Users/joe/Library/Python/3.8/lib/python/site-packages/sklearn/utils/deprecation.py:87: FutureWarning: Function get_feature_names is deprecated; get_feature_names is deprecated in 1.0 and will be removed in 1.2. Please use get_feature_names_out instead.\n",
      "  warnings.warn(msg, category=FutureWarning)\n"
     ]
    }
   ],
   "source": [
    "# load example article from https://journals.physiology.org/doi/full/10.1152/physiol.00024.2019\n",
    "text = open(\"example_article1.txt\").read()\n",
    "count_vectorizer, count_vector = get_CountVectorizer([text])\n",
    "vid2cid = get_vocab2concept_dict(count_vectorizer, cleaned_name2cid)"
   ]
  },
  {
   "cell_type": "code",
   "execution_count": 68,
   "metadata": {},
   "outputs": [
    {
     "name": "stderr",
     "output_type": "stream",
     "text": [
      "/Users/joe/Library/Python/3.8/lib/python/site-packages/seaborn/_decorators.py:36: FutureWarning: Pass the following variables as keyword args: x, y. From version 0.12, the only valid positional argument will be `data`, and passing other arguments without an explicit keyword will result in an error or misinterpretation.\n",
      "  warnings.warn(\n"
     ]
    },
    {
     "data": {
      "text/plain": [
       "<AxesSubplot:>"
      ]
     },
     "execution_count": 68,
     "metadata": {},
     "output_type": "execute_result"
    },
    {
     "data": {
      "image/png": "[encoded data removed]",
      "text/plain": [
       "<Figure size 432x288 with 1 Axes>"
      ]
     },
     "metadata": {},
     "output_type": "display_data"
    }
   ],
   "source": [
    "c = get_laycount(count_vector, vid2cid, relation_c2layer1, allowed_concept_ids) # the input is a list of strings\n",
    "keys = [c2name[k] for k in dict(c).keys()]\n",
    "k, v = sort_two_lists(list(dict(c).values()), keys)\n",
    "\n",
    "sns.set(font_scale=1.2)  \n",
    "sns.barplot(k,v)"
   ]
  },
  {
   "cell_type": "code",
   "execution_count": 77,
   "metadata": {},
   "outputs": [
    {
     "name": "stdout",
     "output_type": "stream",
     "text": [
      "Ten words in the vocabulary:\n",
      "['ability', 'ability monitor', 'ability monitor infectious', 'able', 'able cover', 'able cover policy', 'absence', 'absence violence', 'absence violence terrorism', 'absence violence terrorismd']\n",
      "(1, 4889)\n",
      "matched word: related\n",
      "matched word: crisis\n",
      "matched word: aids\n",
      "matched word: disease\n",
      "matched word: birth\n",
      "matched word: male\n",
      "matched word: female\n",
      "matched word: obesity\n",
      "matched word: pressure\n",
      "matched word: measles\n",
      "matched word: problem\n",
      "matched word: willing\n",
      "matched word: infectious disease\n",
      "matched word: cerebrovascular disease\n",
      "matched word: accidental injury\n",
      "matched word: diabetes mellitus\n"
     ]
    }
   ],
   "source": [
    "# load example article from https://journals.physiology.org/doi/full/10.1152/physiol.00024.2019\n",
    "text = open(\"example_article2.txt\").read()\n",
    "count_vectorizer, count_vector = get_CountVectorizer([text])\n",
    "vid2cid = get_vocab2concept_dict(count_vectorizer, cleaned_name2cid)"
   ]
  },
  {
   "cell_type": "code",
   "execution_count": 70,
   "metadata": {},
   "outputs": [
    {
     "name": "stderr",
     "output_type": "stream",
     "text": [
      "/Users/joe/Library/Python/3.8/lib/python/site-packages/seaborn/_decorators.py:36: FutureWarning: Pass the following variables as keyword args: x, y. From version 0.12, the only valid positional argument will be `data`, and passing other arguments without an explicit keyword will result in an error or misinterpretation.\n",
      "  warnings.warn(\n"
     ]
    },
    {
     "data": {
      "text/plain": [
       "<AxesSubplot:>"
      ]
     },
     "execution_count": 70,
     "metadata": {},
     "output_type": "execute_result"
    },
    {
     "data": {
      "image/png": "[encoded data removed]",
      "text/plain": [
       "<Figure size 432x288 with 1 Axes>"
      ]
     },
     "metadata": {},
     "output_type": "display_data"
    }
   ],
   "source": [
    "c = get_laycount(count_vector, vid2cid, relation_c2layer1, allowed_concept_ids) # the input is a list of strings\n",
    "keys = [c2name[k] for k in dict(c).keys()]\n",
    "k, v = sort_two_lists(list(dict(c).values()), keys)\n",
    "\n",
    "sns.set(font_scale=1.2)  \n",
    "sns.barplot(k,v)"
   ]
  },
  {
   "cell_type": "code",
   "execution_count": null,
   "metadata": {},
   "outputs": [],
   "source": []
  }
 ],
 "metadata": {
  "interpreter": {
   "hash": "31f2aee4e71d21fbe5cf8b01ff0e069b9275f58929596ceb00d14d90e3e16cd6"
  },
  "kernelspec": {
   "display_name": "Python 3.8.2 64-bit",
   "language": "python",
   "name": "python3"
  },
  "language_info": {
   "codemirror_mode": {
    "name": "ipython",
    "version": 3
   },
   "file_extension": ".py",
   "mimetype": "text/x-python",
   "name": "python",
   "nbconvert_exporter": "python",
   "pygments_lexer": "ipython3",
   "version": "3.8.2"
  },
  "orig_nbformat": 4
 },
 "nbformat": 4,
 "nbformat_minor": 2
}
