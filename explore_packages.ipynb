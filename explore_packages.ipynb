{
 "cells": [
  {
   "cell_type": "code",
   "execution_count": 18,
   "metadata": {},
   "outputs": [
    {
     "name": "stderr",
     "output_type": "stream",
     "text": [
      "Your CPU supports instructions that this binary was not compiled to use: SSE3 SSE4.1 SSE4.2 AVX AVX2\n",
      "For maximum performance, you can install NMSLIB from sources \n",
      "pip install --no-binary :all: nmslib\n",
      "/data/anaconda3/envs/scispacy/lib/python3.7/site-packages/requests/models.py:176: DeprecationWarning: Using or importing the ABCs from 'collections' instead of from 'collections.abc' is deprecated since Python 3.3,and in 3.9 it will stop working\n",
      "  if isinstance(hook, collections.Callable):\n",
      "/data/anaconda3/envs/scispacy/lib/python3.7/site-packages/sklearn/base.py:338: UserWarning: Trying to unpickle estimator TfidfTransformer from version 0.20.3 when using version 1.0.2. This might lead to breaking code or invalid results. Use at your own risk. For more info please refer to:\n",
      "https://scikit-learn.org/stable/modules/model_persistence.html#security-maintainability-limitations\n",
      "  UserWarning,\n",
      "/data/anaconda3/envs/scispacy/lib/python3.7/site-packages/sklearn/base.py:338: UserWarning: Trying to unpickle estimator TfidfVectorizer from version 0.20.3 when using version 1.0.2. This might lead to breaking code or invalid results. Use at your own risk. For more info please refer to:\n",
      "https://scikit-learn.org/stable/modules/model_persistence.html#security-maintainability-limitations\n",
      "  UserWarning,\n",
      "/data/anaconda3/envs/scispacy/lib/python3.7/site-packages/scispacy/candidate_generation.py:229: ResourceWarning: unclosed file <_io.TextIOWrapper name='/home/chaochunh/.scispacy/datasets/1428ec15d3b1061731ea273c03699130b3d6b90948993e74bda66af605ff8e2a.aeb7a686c654df6bccb6c2c23d3eda3eb381daaefda4592b58158d0bee53b352.concept_aliases.json' mode='r' encoding='UTF-8'>\n",
      "  open(cached_path(linker_paths.concept_aliases_list))\n",
      "ResourceWarning: Enable tracemalloc to get the object allocation traceback\n",
      "/data/anaconda3/envs/scispacy/lib/python3.7/site-packages/scispacy/linking_utils.py:72: ResourceWarning: unclosed file <_io.TextIOWrapper name='/home/chaochunh/.scispacy/datasets/4d7fb8fcae1035d1e0a47d9072b43d5a628057d35497fbfb2499b4b7b2dd4dd7.05ec7eef12f336d4666da85b7fa69b9401883a7dd4244473f7b88b413ccbba03.umls_2020_aa_cat0129.jsonl' mode='r' encoding='UTF-8'>\n",
      "  for concept in raw:\n",
      "ResourceWarning: Enable tracemalloc to get the object allocation traceback\n",
      "/data/anaconda3/envs/scispacy/lib/python3.7/site-packages/scispacy/umls_semantic_type_tree.py:100: ResourceWarning: unclosed file <_io.TextIOWrapper name='/home/chaochunh/.scispacy/datasets/21a1012c532c3a431d60895c509f5b4d45b0f8966c4178b892190a302b21836f.330707f4efe774134872b9f77f0e3208c1d30f50800b3b39a6b8ec21d9adf1b7.umls_semantic_type_tree.tsv' mode='r' encoding='UTF-8'>\n",
      "  for line in open(cached_path(filepath), \"r\"):\n",
      "ResourceWarning: Enable tracemalloc to get the object allocation traceback\n",
      "/data/anaconda3/envs/scispacy/lib/python3.7/site-packages/scispacy/candidate_generation.py:284: VisibleDeprecationWarning: Creating an ndarray from ragged nested sequences (which is a list-or-tuple of lists-or-tuples-or ndarrays with different lengths or shapes) is deprecated. If you meant to do this, you must specify 'dtype=object' when creating the ndarray.\n",
      "  extended_neighbors[empty_vectors_boolean_flags] = numpy.array(neighbors)[:-1]\n",
      "/data/anaconda3/envs/scispacy/lib/python3.7/site-packages/scispacy/candidate_generation.py:285: VisibleDeprecationWarning: Creating an ndarray from ragged nested sequences (which is a list-or-tuple of lists-or-tuples-or ndarrays with different lengths or shapes) is deprecated. If you meant to do this, you must specify 'dtype=object' when creating the ndarray.\n",
      "  extended_distances[empty_vectors_boolean_flags] = numpy.array(distances)[:-1]\n"
     ]
    },
    {
     "data": {
      "text/html": [
       "<span class=\"tex2jax_ignore\"><div class=\"entities\" style=\"line-height: 2.5; direction: ltr\">\n",
       "<mark class=\"entity\" style=\"background: #1f77b4; padding: 0.45em 0.6em; margin: 0 0.25em; line-height: 1; border-radius: 0.35em;\">\n",
       "    Alterations\n",
       "    <span style=\"font-size: 0.8em; font-weight: bold; line-height: 1; border-radius: 0.35em; vertical-align: middle; margin-left: 0.5rem\">ENTITY</span>\n",
       "</mark>\n",
       " in the \n",
       "<mark class=\"entity\" style=\"background: #1f77b4; padding: 0.45em 0.6em; margin: 0 0.25em; line-height: 1; border-radius: 0.35em;\">\n",
       "    hypocretin receptor 2\n",
       "    <span style=\"font-size: 0.8em; font-weight: bold; line-height: 1; border-radius: 0.35em; vertical-align: middle; margin-left: 0.5rem\">ENTITY</span>\n",
       "</mark>\n",
       " and \n",
       "<mark class=\"entity\" style=\"background: #1f77b4; padding: 0.45em 0.6em; margin: 0 0.25em; line-height: 1; border-radius: 0.35em;\">\n",
       "    preprohypocretin\n",
       "    <span style=\"font-size: 0.8em; font-weight: bold; line-height: 1; border-radius: 0.35em; vertical-align: middle; margin-left: 0.5rem\">ENTITY</span>\n",
       "</mark>\n",
       " \n",
       "<mark class=\"entity\" style=\"background: #1f77b4; padding: 0.45em 0.6em; margin: 0 0.25em; line-height: 1; border-radius: 0.35em;\">\n",
       "    genes\n",
       "    <span style=\"font-size: 0.8em; font-weight: bold; line-height: 1; border-radius: 0.35em; vertical-align: middle; margin-left: 0.5rem\">ENTITY</span>\n",
       "</mark>\n",
       " produce \n",
       "<mark class=\"entity\" style=\"background: #1f77b4; padding: 0.45em 0.6em; margin: 0 0.25em; line-height: 1; border-radius: 0.35em;\">\n",
       "    narcolepsy\n",
       "    <span style=\"font-size: 0.8em; font-weight: bold; line-height: 1; border-radius: 0.35em; vertical-align: middle; margin-left: 0.5rem\">ENTITY</span>\n",
       "</mark>\n",
       " in some \n",
       "<mark class=\"entity\" style=\"background: #1f77b4; padding: 0.45em 0.6em; margin: 0 0.25em; line-height: 1; border-radius: 0.35em;\">\n",
       "    animals\n",
       "    <span style=\"font-size: 0.8em; font-weight: bold; line-height: 1; border-radius: 0.35em; vertical-align: middle; margin-left: 0.5rem\">ENTITY</span>\n",
       "</mark>\n",
       ".</div></span>"
      ],
      "text/plain": [
       "<IPython.core.display.HTML object>"
      ]
     },
     "metadata": {},
     "output_type": "display_data"
    }
   ],
   "source": [
    "import spacy\n",
    "from medspacy.context import ConTextComponent\n",
    "from medspacy.visualization import visualize_ent\n",
    "from scispacy.linking import EntityLinker\n",
    "nlp = spacy.load(\"en_core_sci_sm\")\n",
    "nlp.add_pipe(\"scispacy_linker\", config={\"resolve_abbreviations\": True, \"linker_name\": \"umls\"})\n",
    "nlp.add_pipe(\"medspacy_context\")\n",
    "\n",
    "doc = nlp(\"Alterations in the hypocretin receptor 2 and preprohypocretin genes produce narcolepsy in some animals.\")\n",
    "visualize_ent(doc)"
   ]
  },
  {
   "cell_type": "code",
   "execution_count": 21,
   "metadata": {},
   "outputs": [
    {
     "name": "stdout",
     "output_type": "stream",
     "text": [
      "Name:  Alterations\n",
      "C1515926\n",
      "C0013378\n",
      "C0026882\n",
      "C0085633\n",
      "C2939186\n"
     ]
    }
   ],
   "source": [
    "# Let's look at a random entity!\n",
    "entity = doc.ents[0]\n",
    "\n",
    "print(\"Name: \", entity)\n",
    "\n",
    "# Each entity is linked to UMLS with a score\n",
    "# (currently just char-3gram matching).\n",
    "linker = nlp.get_pipe(\"scispacy_linker\")\n",
    "for umls_ent in entity._.kb_ents:\n",
    "\t# print(linker.kb.cui_to_entity[umls_ent[0]])\n",
    "\tprint(umls_ent[0])"
   ]
  },
  {
   "cell_type": "code",
   "execution_count": null,
   "metadata": {},
   "outputs": [],
   "source": [
    "\n",
    "text = \"\"\"\n",
    "No findings of Dipalmitoyl Phosphatidylcholine in pulmonary specimen.\n",
    "\"\"\"\n",
    "text = open(\"example_article1.txt\").read()\n",
    "# text = \"Alterations in the hypocretin receptor 2 and preprohypocretin genes produce narcolepsy in some animals.\"\n",
    "doc = nlp(text)\n",
    "visualize_ent(doc)"
   ]
  },
  {
   "cell_type": "code",
   "execution_count": 5,
   "metadata": {},
   "outputs": [
    {
     "data": {
      "text/plain": [
       "False"
      ]
     },
     "execution_count": 5,
     "metadata": {},
     "output_type": "execute_result"
    }
   ],
   "source": [
    "doc.ents[0]._.is_negated"
   ]
  },
  {
   "cell_type": "code",
   "execution_count": 3,
   "metadata": {},
   "outputs": [
    {
     "ename": "ValueError",
     "evalue": "Cannot save existent quadstore in '/data/joe/pym.sqlite3': File already exists! Use a new filename for saving quadstore or, for opening an already existent quadstore, do not create any triple before calling set_backend() (including creating an empty ontology or loading a module that does so).",
     "output_type": "error",
     "traceback": [
      "\u001b[0;31m---------------------------------------------------------------------------\u001b[0m",
      "\u001b[0;31mValueError\u001b[0m                                Traceback (most recent call last)",
      "\u001b[0;32m/tmp/ipykernel_209072/2458933822.py\u001b[0m in \u001b[0;36m<module>\u001b[0;34m\u001b[0m\n\u001b[1;32m      4\u001b[0m \u001b[0;32mfrom\u001b[0m \u001b[0mowlready2\u001b[0m\u001b[0;34m.\u001b[0m\u001b[0mpymedtermino2\u001b[0m\u001b[0;34m.\u001b[0m\u001b[0mumls\u001b[0m \u001b[0;32mimport\u001b[0m \u001b[0;34m*\u001b[0m\u001b[0;34m\u001b[0m\u001b[0;34m\u001b[0m\u001b[0m\n\u001b[1;32m      5\u001b[0m \u001b[0;34m\u001b[0m\u001b[0m\n\u001b[0;32m----> 6\u001b[0;31m \u001b[0mdefault_world\u001b[0m\u001b[0;34m.\u001b[0m\u001b[0mset_backend\u001b[0m\u001b[0;34m(\u001b[0m\u001b[0mfilename\u001b[0m \u001b[0;34m=\u001b[0m \u001b[0;34m\"/data/joe/pym.sqlite3\"\u001b[0m\u001b[0;34m)\u001b[0m\u001b[0;34m\u001b[0m\u001b[0;34m\u001b[0m\u001b[0m\n\u001b[0m\u001b[1;32m      7\u001b[0m \u001b[0mimport_umls\u001b[0m\u001b[0;34m(\u001b[0m\u001b[0;34m\"/data/joe/umls-2022AA-full.zip\"\u001b[0m\u001b[0;34m,\u001b[0m \u001b[0mterminologies\u001b[0m \u001b[0;34m=\u001b[0m \u001b[0;34m[\u001b[0m\u001b[0;34m\"SNOMEDCT_US\"\u001b[0m\u001b[0;34m,\u001b[0m \u001b[0;34m\"CUI\"\u001b[0m\u001b[0;34m]\u001b[0m\u001b[0;34m)\u001b[0m\u001b[0;34m\u001b[0m\u001b[0;34m\u001b[0m\u001b[0m\n\u001b[1;32m      8\u001b[0m \u001b[0mdefault_world\u001b[0m\u001b[0;34m.\u001b[0m\u001b[0msave\u001b[0m\u001b[0;34m(\u001b[0m\u001b[0;34m)\u001b[0m\u001b[0;34m\u001b[0m\u001b[0;34m\u001b[0m\u001b[0m\n",
      "\u001b[0;32m/data/anaconda3/envs/scispacy/lib/python3.7/site-packages/owlready2/namespace.py\u001b[0m in \u001b[0;36mset_backend\u001b[0;34m(self, backend, filename, dbname, **kargs)\u001b[0m\n\u001b[1;32m    471\u001b[0m       \u001b[0;32mfrom\u001b[0m \u001b[0mowlready2\u001b[0m\u001b[0;34m.\u001b[0m\u001b[0mtriplelite\u001b[0m \u001b[0;32mimport\u001b[0m \u001b[0mGraph\u001b[0m\u001b[0;34m\u001b[0m\u001b[0;34m\u001b[0m\u001b[0m\n\u001b[1;32m    472\u001b[0m       \u001b[0;32mif\u001b[0m \u001b[0mself\u001b[0m\u001b[0;34m.\u001b[0m\u001b[0mgraph\u001b[0m \u001b[0;32mand\u001b[0m \u001b[0;34m(\u001b[0m\u001b[0mlen\u001b[0m\u001b[0;34m(\u001b[0m\u001b[0mself\u001b[0m\u001b[0;34m.\u001b[0m\u001b[0mgraph\u001b[0m\u001b[0;34m)\u001b[0m \u001b[0;34m>\u001b[0m \u001b[0;36m1\u001b[0m\u001b[0;34m)\u001b[0m\u001b[0;34m:\u001b[0m \u001b[0;31m# 1 is for http://anonymous ontology\u001b[0m\u001b[0;34m\u001b[0m\u001b[0;34m\u001b[0m\u001b[0m\n\u001b[0;32m--> 473\u001b[0;31m         \u001b[0mself\u001b[0m\u001b[0;34m.\u001b[0m\u001b[0mgraph\u001b[0m \u001b[0;34m=\u001b[0m \u001b[0mGraph\u001b[0m\u001b[0;34m(\u001b[0m\u001b[0mfilename\u001b[0m\u001b[0;34m,\u001b[0m \u001b[0mworld\u001b[0m \u001b[0;34m=\u001b[0m \u001b[0mself\u001b[0m\u001b[0;34m,\u001b[0m \u001b[0mclone\u001b[0m \u001b[0;34m=\u001b[0m \u001b[0mself\u001b[0m\u001b[0;34m.\u001b[0m\u001b[0mgraph\u001b[0m\u001b[0;34m,\u001b[0m \u001b[0;34m**\u001b[0m\u001b[0mkargs\u001b[0m\u001b[0;34m)\u001b[0m\u001b[0;34m\u001b[0m\u001b[0;34m\u001b[0m\u001b[0m\n\u001b[0m\u001b[1;32m    474\u001b[0m       \u001b[0;32melse\u001b[0m\u001b[0;34m:\u001b[0m\u001b[0;34m\u001b[0m\u001b[0;34m\u001b[0m\u001b[0m\n\u001b[1;32m    475\u001b[0m         \u001b[0mself\u001b[0m\u001b[0;34m.\u001b[0m\u001b[0mgraph\u001b[0m \u001b[0;34m=\u001b[0m \u001b[0mGraph\u001b[0m\u001b[0;34m(\u001b[0m\u001b[0mfilename\u001b[0m\u001b[0;34m,\u001b[0m \u001b[0mworld\u001b[0m \u001b[0;34m=\u001b[0m \u001b[0mself\u001b[0m\u001b[0;34m,\u001b[0m \u001b[0;34m**\u001b[0m\u001b[0mkargs\u001b[0m\u001b[0;34m)\u001b[0m\u001b[0;34m\u001b[0m\u001b[0;34m\u001b[0m\u001b[0m\n",
      "\u001b[0;32m/data/anaconda3/envs/scispacy/lib/python3.7/site-packages/owlready2/triplelite.py\u001b[0m in \u001b[0;36m__init__\u001b[0;34m(self, filename, clone, exclusive, sqlite_tmp_dir, world, profiling, read_only)\u001b[0m\n\u001b[1;32m     45\u001b[0m \u001b[0;34m\u001b[0m\u001b[0m\n\u001b[1;32m     46\u001b[0m     \u001b[0;32mif\u001b[0m \u001b[0mclone\u001b[0m \u001b[0;32mand\u001b[0m \u001b[0;34m(\u001b[0m\u001b[0mfilename\u001b[0m \u001b[0;34m!=\u001b[0m \u001b[0;34m\":memory:\"\u001b[0m\u001b[0;34m)\u001b[0m\u001b[0;34m:\u001b[0m\u001b[0;34m\u001b[0m\u001b[0;34m\u001b[0m\u001b[0m\n\u001b[0;32m---> 47\u001b[0;31m       \u001b[0;32mif\u001b[0m \u001b[0mexists\u001b[0m\u001b[0;34m:\u001b[0m \u001b[0;32mraise\u001b[0m \u001b[0mValueError\u001b[0m\u001b[0;34m(\u001b[0m\u001b[0;34m\"Cannot save existent quadstore in '%s': File already exists! Use a new filename for saving quadstore or, for opening an already existent quadstore, do not create any triple before calling set_backend() (including creating an empty ontology or loading a module that does so).\"\u001b[0m \u001b[0;34m%\u001b[0m \u001b[0mfilename\u001b[0m\u001b[0;34m)\u001b[0m\u001b[0;34m\u001b[0m\u001b[0;34m\u001b[0m\u001b[0m\n\u001b[0m\u001b[1;32m     48\u001b[0m \u001b[0;34m\u001b[0m\u001b[0m\n\u001b[1;32m     49\u001b[0m     \u001b[0;32mif\u001b[0m \u001b[0msqlite_tmp_dir\u001b[0m\u001b[0;34m:\u001b[0m \u001b[0mos\u001b[0m\u001b[0;34m.\u001b[0m\u001b[0menviron\u001b[0m\u001b[0;34m[\u001b[0m\u001b[0;34m\"SQLITE_TMPDIR\"\u001b[0m\u001b[0;34m]\u001b[0m \u001b[0;34m=\u001b[0m \u001b[0msqlite_tmp_dir\u001b[0m\u001b[0;34m\u001b[0m\u001b[0;34m\u001b[0m\u001b[0m\n",
      "\u001b[0;31mValueError\u001b[0m: Cannot save existent quadstore in '/data/joe/pym.sqlite3': File already exists! Use a new filename for saving quadstore or, for opening an already existent quadstore, do not create any triple before calling set_backend() (including creating an empty ontology or loading a module that does so)."
     ]
    }
   ],
   "source": [
    "# Run this when it's first time to build the pym.splite3\n",
    "from owlready2 import *\n",
    "from owlready2.pymedtermino2 import *\n",
    "from owlready2.pymedtermino2.umls import *\n",
    "\n",
    "default_world.set_backend(filename = \"/data/joe/pym.sqlite3\")\n",
    "import_umls(\"/data/joe/umls-2022AA-full.zip\", terminologies = [\"SNOMEDCT_US\", \"CUI\"])\n",
    "default_world.save()"
   ]
  },
  {
   "cell_type": "code",
   "execution_count": 2,
   "metadata": {},
   "outputs": [],
   "source": [
    "# Run this when reload the pysqlite3\n",
    "from owlready2.pymedtermino2 import umls\n",
    "umls.default_world.set_backend(filename = \"/data/joe/pym.sqlite3\")"
   ]
  },
  {
   "cell_type": "code",
   "execution_count": 3,
   "metadata": {},
   "outputs": [],
   "source": [
    "from owlready2 import *\n",
    "PYM = get_ontology(\"http://PYM/\").load()\n",
    "SNOMEDCT_US = PYM[\"SNOMEDCT_US\"]\n",
    "CUI = PYM[\"CUI\"]"
   ]
  },
  {
   "cell_type": "code",
   "execution_count": 75,
   "metadata": {},
   "outputs": [
    {
     "name": "stdout",
     "output_type": "stream",
     "text": [
      "Name:  Abstract\n",
      "\n"
     ]
    }
   ],
   "source": [
    "umls_concepts = owlready2.pymedtermino2.model.Concepts()\n",
    "\n",
    "# Each entity is linked to UMLS with a score\n",
    "# (currently just char-3gram matching).\n",
    "linker = nlp.get_pipe(\"scispacy_linker\")\n",
    "for entity in doc.ents:\n",
    "    for umls_ent in entity._.kb_ents:\n",
    "        # print(linker.kb.cui_to_entity[umls_ent[0]])\n",
    "        # print(umls_ent[0])\n",
    "        umls_concepts.add(CUI[umls_ent[0]])\n",
    "        break\n",
    "snomed_concepts = umls_concepts >> SNOMEDCT_US"
   ]
  },
  {
   "cell_type": "code",
   "execution_count": 79,
   "metadata": {},
   "outputs": [],
   "source": [
    "import seaborn as sns\n",
    "\n",
    "def sort_two_lists(list1, list2):\n",
    "    zipped_lists = zip(list1, list2)\n",
    "    sorted_pairs = sorted(zipped_lists, key=lambda pair: pair[1])\n",
    "\n",
    "    tuples = zip(*sorted_pairs)\n",
    "    list1, list2 = [ list(tuple) for tuple in  tuples]\n",
    "    return list1, list2"
   ]
  },
  {
   "cell_type": "code",
   "execution_count": 80,
   "metadata": {},
   "outputs": [
    {
     "name": "stdout",
     "output_type": "stream",
     "text": [
      "{'365860008': 1, '384821006': 2, '106028002': 2, '302292003': 8, '118222006': 9, '118228005': 1, '118254002': 3, '248982007': 1, '116336009': 1, '364830008': 3, '298325004': 1, '441742003': 5, '64572001': 1}\n",
      "['General clinical state finding', 'Functional finding', 'Pregnancy, childbirth and puerperium finding', 'Eating / feeding / drinking finding', 'Finding of movement', 'Disease', 'Mental state, behavior and/or psychosocial function finding', 'Musculoskeletal finding', 'Finding of head and neck region', 'Position of body and posture - finding', 'Evaluation finding', 'Finding of trunk structure', 'General finding of observation of patient'] [1, 1, 1, 1, 1, 1, 2, 2, 3, 3, 5, 8, 9]\n"
     ]
    },
    {
     "data": {
      "text/plain": [
       "<AxesSubplot:>"
      ]
     },
     "execution_count": 80,
     "metadata": {},
     "output_type": "execute_result"
    },
    {
     "data": {
      "image/png": "[encoded data removed]",
      "text/plain": [
       "<Figure size 432x288 with 1 Axes>"
      ]
     },
     "metadata": {
      "needs_background": "light"
     },
     "output_type": "display_data"
    }
   ],
   "source": [
    "# level_0 = SNOMEDCT_US[\"138875005\"].children # root\n",
    "level_1 = SNOMEDCT_US[\"404684003\"].children # clinical findings\n",
    "count_dic = {}\n",
    "for s_c in list(snomed_concepts):\n",
    "    while s_c.parents:\n",
    "        s_c = s_c.parents[0]\n",
    "        if s_c in level_1:\n",
    "            count_dic[s_c.name] = count_dic.get(s_c.name, 0) + 1\n",
    "            break\n",
    "print(count_dic)\n",
    "s_names, counts = sort_two_lists(list(count_dic.keys()), list(count_dic.values()))\n",
    "s_labels = [str(SNOMEDCT_US[s_name].label[0]) for s_name in s_names]\n",
    "print(s_labels, counts)\n",
    "sns.barplot(y=s_labels, x=counts)\n"
   ]
  },
  {
   "cell_type": "code",
   "execution_count": 70,
   "metadata": {},
   "outputs": [
    {
     "data": {
      "text/plain": [
       "[SNOMEDCT_US[\"105590001\"] # Substance,\n",
       " SNOMEDCT_US[\"123037004\"] # Body structure,\n",
       " SNOMEDCT_US[\"123038009\"] # Specimen,\n",
       " SNOMEDCT_US[\"243796009\"] # Situation with explicit context,\n",
       " SNOMEDCT_US[\"254291000\"] # Staging and scales,\n",
       " SNOMEDCT_US[\"260787004\"] # Physical object,\n",
       " SNOMEDCT_US[\"272379006\"] # Event,\n",
       " SNOMEDCT_US[\"308916002\"] # Environment or geographical location,\n",
       " SNOMEDCT_US[\"362981000\"] # Qualifier value,\n",
       " SNOMEDCT_US[\"363787002\"] # Observable entity,\n",
       " SNOMEDCT_US[\"370115009\"] # Special concept,\n",
       " SNOMEDCT_US[\"373873005\"] # Pharmaceutical / biologic product,\n",
       " SNOMEDCT_US[\"404684003\"] # Clinical finding,\n",
       " SNOMEDCT_US[\"410607006\"] # Organism,\n",
       " SNOMEDCT_US[\"419891008\"] # Record artifact,\n",
       " SNOMEDCT_US[\"48176007\"] # Social context,\n",
       " SNOMEDCT_US[\"71388002\"] # Procedure,\n",
       " SNOMEDCT_US[\"78621006\"] # Physical force,\n",
       " SNOMEDCT_US[\"900000000000441003\"] # SNOMED CT Model Component]"
      ]
     },
     "execution_count": 70,
     "metadata": {},
     "output_type": "execute_result"
    }
   ],
   "source": [
    "SNOMEDCT_US[\"138875005\"].children"
   ]
  },
  {
   "cell_type": "code",
   "execution_count": null,
   "metadata": {},
   "outputs": [],
   "source": []
  }
 ],
 "metadata": {
  "interpreter": {
   "hash": "bd93c0ba2af34571f440c57118b53424e93b709e6d0f996f5b0b861306b17585"
  },
  "kernelspec": {
   "display_name": "Python 3.7.6 64-bit ('info_yelp': conda)",
   "name": "python3"
  },
  "language_info": {
   "codemirror_mode": {
    "name": "ipython",
    "version": 3
   },
   "file_extension": ".py",
   "mimetype": "text/x-python",
   "name": "python",
   "nbconvert_exporter": "python",
   "pygments_lexer": "ipython3",
   "version": "3.7.13"
  },
  "orig_nbformat": 4
 },
 "nbformat": 4,
 "nbformat_minor": 2
}
